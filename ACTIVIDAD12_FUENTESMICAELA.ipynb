{
 "cells": [
  {
   "cell_type": "code",
   "execution_count": 1,
   "metadata": {},
   "outputs": [],
   "source": [
    "import numpy as np\n",
    "import matplotlib.pyplot as plt\n",
    "import scipy.stats as stats\n",
    "import pandas as pd\n",
    "from sklearn.metrics import roc_curve\n",
    "import seaborn as sns\n",
    "import statsmodels.api as sm\n",
    "import statsmodels.formula.api as smf\n",
    "import warnings\n",
    "warnings.filterwarnings('ignore')\n",
    "plt.style.use('seaborn')\n",
    "plt.rcParams['figure.figsize']=(6,3)\n",
    "plt.rcParams['figure.dpi']=200"
   ]
  },
  {
   "cell_type": "code",
   "execution_count": 2,
   "metadata": {},
   "outputs": [],
   "source": [
    "df=pd.read_csv('default_credit.csv')\n",
    "df=df.drop(\"index\", axis =1)               "
   ]
  },
  {
   "cell_type": "code",
   "execution_count": 3,
   "metadata": {},
   "outputs": [
    {
     "data": {
      "text/html": [
       "<div>\n",
       "<style scoped>\n",
       "    .dataframe tbody tr th:only-of-type {\n",
       "        vertical-align: middle;\n",
       "    }\n",
       "\n",
       "    .dataframe tbody tr th {\n",
       "        vertical-align: top;\n",
       "    }\n",
       "\n",
       "    .dataframe thead th {\n",
       "        text-align: right;\n",
       "    }\n",
       "</style>\n",
       "<table border=\"1\" class=\"dataframe\">\n",
       "  <thead>\n",
       "    <tr style=\"text-align: right;\">\n",
       "      <th></th>\n",
       "      <th>default</th>\n",
       "      <th>student</th>\n",
       "      <th>balance</th>\n",
       "      <th>income</th>\n",
       "    </tr>\n",
       "  </thead>\n",
       "  <tbody>\n",
       "    <tr>\n",
       "      <th>0</th>\n",
       "      <td>No</td>\n",
       "      <td>No</td>\n",
       "      <td>729.526495</td>\n",
       "      <td>44361.625074</td>\n",
       "    </tr>\n",
       "    <tr>\n",
       "      <th>1</th>\n",
       "      <td>No</td>\n",
       "      <td>Yes</td>\n",
       "      <td>817.180407</td>\n",
       "      <td>12106.134700</td>\n",
       "    </tr>\n",
       "    <tr>\n",
       "      <th>2</th>\n",
       "      <td>No</td>\n",
       "      <td>No</td>\n",
       "      <td>1073.549164</td>\n",
       "      <td>31767.138947</td>\n",
       "    </tr>\n",
       "    <tr>\n",
       "      <th>3</th>\n",
       "      <td>No</td>\n",
       "      <td>No</td>\n",
       "      <td>529.250605</td>\n",
       "      <td>35704.493935</td>\n",
       "    </tr>\n",
       "    <tr>\n",
       "      <th>4</th>\n",
       "      <td>No</td>\n",
       "      <td>No</td>\n",
       "      <td>785.655883</td>\n",
       "      <td>38463.495879</td>\n",
       "    </tr>\n",
       "    <tr>\n",
       "      <th>5</th>\n",
       "      <td>No</td>\n",
       "      <td>Yes</td>\n",
       "      <td>919.588530</td>\n",
       "      <td>7491.558572</td>\n",
       "    </tr>\n",
       "    <tr>\n",
       "      <th>6</th>\n",
       "      <td>No</td>\n",
       "      <td>No</td>\n",
       "      <td>825.513331</td>\n",
       "      <td>24905.226578</td>\n",
       "    </tr>\n",
       "    <tr>\n",
       "      <th>7</th>\n",
       "      <td>No</td>\n",
       "      <td>Yes</td>\n",
       "      <td>808.667504</td>\n",
       "      <td>17600.451344</td>\n",
       "    </tr>\n",
       "    <tr>\n",
       "      <th>8</th>\n",
       "      <td>No</td>\n",
       "      <td>No</td>\n",
       "      <td>1161.057854</td>\n",
       "      <td>37468.529288</td>\n",
       "    </tr>\n",
       "    <tr>\n",
       "      <th>9</th>\n",
       "      <td>No</td>\n",
       "      <td>No</td>\n",
       "      <td>0.000000</td>\n",
       "      <td>29275.268293</td>\n",
       "    </tr>\n",
       "    <tr>\n",
       "      <th>10</th>\n",
       "      <td>No</td>\n",
       "      <td>Yes</td>\n",
       "      <td>0.000000</td>\n",
       "      <td>21871.073089</td>\n",
       "    </tr>\n",
       "    <tr>\n",
       "      <th>11</th>\n",
       "      <td>No</td>\n",
       "      <td>Yes</td>\n",
       "      <td>1220.583753</td>\n",
       "      <td>13268.562221</td>\n",
       "    </tr>\n",
       "    <tr>\n",
       "      <th>12</th>\n",
       "      <td>No</td>\n",
       "      <td>No</td>\n",
       "      <td>237.045114</td>\n",
       "      <td>28251.695345</td>\n",
       "    </tr>\n",
       "    <tr>\n",
       "      <th>13</th>\n",
       "      <td>No</td>\n",
       "      <td>No</td>\n",
       "      <td>606.742343</td>\n",
       "      <td>44994.555849</td>\n",
       "    </tr>\n",
       "    <tr>\n",
       "      <th>14</th>\n",
       "      <td>No</td>\n",
       "      <td>No</td>\n",
       "      <td>1112.968401</td>\n",
       "      <td>23810.174050</td>\n",
       "    </tr>\n",
       "    <tr>\n",
       "      <th>15</th>\n",
       "      <td>No</td>\n",
       "      <td>No</td>\n",
       "      <td>286.232560</td>\n",
       "      <td>45042.413036</td>\n",
       "    </tr>\n",
       "    <tr>\n",
       "      <th>16</th>\n",
       "      <td>No</td>\n",
       "      <td>No</td>\n",
       "      <td>0.000000</td>\n",
       "      <td>50265.312354</td>\n",
       "    </tr>\n",
       "    <tr>\n",
       "      <th>17</th>\n",
       "      <td>No</td>\n",
       "      <td>Yes</td>\n",
       "      <td>527.540184</td>\n",
       "      <td>17636.539617</td>\n",
       "    </tr>\n",
       "    <tr>\n",
       "      <th>18</th>\n",
       "      <td>No</td>\n",
       "      <td>No</td>\n",
       "      <td>485.936864</td>\n",
       "      <td>61566.106118</td>\n",
       "    </tr>\n",
       "    <tr>\n",
       "      <th>19</th>\n",
       "      <td>No</td>\n",
       "      <td>No</td>\n",
       "      <td>1095.072735</td>\n",
       "      <td>26464.631389</td>\n",
       "    </tr>\n",
       "    <tr>\n",
       "      <th>20</th>\n",
       "      <td>No</td>\n",
       "      <td>No</td>\n",
       "      <td>228.952550</td>\n",
       "      <td>50500.182198</td>\n",
       "    </tr>\n",
       "    <tr>\n",
       "      <th>21</th>\n",
       "      <td>No</td>\n",
       "      <td>No</td>\n",
       "      <td>954.261793</td>\n",
       "      <td>32457.509075</td>\n",
       "    </tr>\n",
       "    <tr>\n",
       "      <th>22</th>\n",
       "      <td>No</td>\n",
       "      <td>No</td>\n",
       "      <td>1055.956605</td>\n",
       "      <td>51317.883082</td>\n",
       "    </tr>\n",
       "    <tr>\n",
       "      <th>23</th>\n",
       "      <td>No</td>\n",
       "      <td>No</td>\n",
       "      <td>641.984389</td>\n",
       "      <td>30466.103257</td>\n",
       "    </tr>\n",
       "    <tr>\n",
       "      <th>24</th>\n",
       "      <td>No</td>\n",
       "      <td>No</td>\n",
       "      <td>773.211725</td>\n",
       "      <td>34353.314305</td>\n",
       "    </tr>\n",
       "    <tr>\n",
       "      <th>25</th>\n",
       "      <td>No</td>\n",
       "      <td>No</td>\n",
       "      <td>855.008523</td>\n",
       "      <td>25211.332161</td>\n",
       "    </tr>\n",
       "    <tr>\n",
       "      <th>26</th>\n",
       "      <td>No</td>\n",
       "      <td>No</td>\n",
       "      <td>642.999739</td>\n",
       "      <td>41473.511801</td>\n",
       "    </tr>\n",
       "    <tr>\n",
       "      <th>27</th>\n",
       "      <td>No</td>\n",
       "      <td>No</td>\n",
       "      <td>1454.863272</td>\n",
       "      <td>32189.094952</td>\n",
       "    </tr>\n",
       "    <tr>\n",
       "      <th>28</th>\n",
       "      <td>No</td>\n",
       "      <td>No</td>\n",
       "      <td>615.704277</td>\n",
       "      <td>39376.394619</td>\n",
       "    </tr>\n",
       "    <tr>\n",
       "      <th>29</th>\n",
       "      <td>No</td>\n",
       "      <td>Yes</td>\n",
       "      <td>1119.569353</td>\n",
       "      <td>16556.070205</td>\n",
       "    </tr>\n",
       "    <tr>\n",
       "      <th>...</th>\n",
       "      <td>...</td>\n",
       "      <td>...</td>\n",
       "      <td>...</td>\n",
       "      <td>...</td>\n",
       "    </tr>\n",
       "    <tr>\n",
       "      <th>9970</th>\n",
       "      <td>No</td>\n",
       "      <td>Yes</td>\n",
       "      <td>1294.500408</td>\n",
       "      <td>25687.326050</td>\n",
       "    </tr>\n",
       "    <tr>\n",
       "      <th>9971</th>\n",
       "      <td>No</td>\n",
       "      <td>Yes</td>\n",
       "      <td>180.620128</td>\n",
       "      <td>20975.560495</td>\n",
       "    </tr>\n",
       "    <tr>\n",
       "      <th>9972</th>\n",
       "      <td>No</td>\n",
       "      <td>No</td>\n",
       "      <td>755.432801</td>\n",
       "      <td>14455.865365</td>\n",
       "    </tr>\n",
       "    <tr>\n",
       "      <th>9973</th>\n",
       "      <td>No</td>\n",
       "      <td>No</td>\n",
       "      <td>876.119027</td>\n",
       "      <td>37668.366788</td>\n",
       "    </tr>\n",
       "    <tr>\n",
       "      <th>9974</th>\n",
       "      <td>No</td>\n",
       "      <td>Yes</td>\n",
       "      <td>933.332025</td>\n",
       "      <td>26051.398320</td>\n",
       "    </tr>\n",
       "    <tr>\n",
       "      <th>9975</th>\n",
       "      <td>No</td>\n",
       "      <td>No</td>\n",
       "      <td>908.315934</td>\n",
       "      <td>21287.942487</td>\n",
       "    </tr>\n",
       "    <tr>\n",
       "      <th>9976</th>\n",
       "      <td>No</td>\n",
       "      <td>No</td>\n",
       "      <td>218.417559</td>\n",
       "      <td>25401.133121</td>\n",
       "    </tr>\n",
       "    <tr>\n",
       "      <th>9977</th>\n",
       "      <td>No</td>\n",
       "      <td>Yes</td>\n",
       "      <td>915.439827</td>\n",
       "      <td>16624.339111</td>\n",
       "    </tr>\n",
       "    <tr>\n",
       "      <th>9978</th>\n",
       "      <td>Yes</td>\n",
       "      <td>No</td>\n",
       "      <td>2202.462395</td>\n",
       "      <td>47287.257108</td>\n",
       "    </tr>\n",
       "    <tr>\n",
       "      <th>9979</th>\n",
       "      <td>No</td>\n",
       "      <td>No</td>\n",
       "      <td>173.249172</td>\n",
       "      <td>30697.245062</td>\n",
       "    </tr>\n",
       "    <tr>\n",
       "      <th>9980</th>\n",
       "      <td>No</td>\n",
       "      <td>Yes</td>\n",
       "      <td>770.015741</td>\n",
       "      <td>13684.789952</td>\n",
       "    </tr>\n",
       "    <tr>\n",
       "      <th>9981</th>\n",
       "      <td>No</td>\n",
       "      <td>No</td>\n",
       "      <td>739.418018</td>\n",
       "      <td>40656.951448</td>\n",
       "    </tr>\n",
       "    <tr>\n",
       "      <th>9982</th>\n",
       "      <td>No</td>\n",
       "      <td>No</td>\n",
       "      <td>623.526119</td>\n",
       "      <td>59441.309981</td>\n",
       "    </tr>\n",
       "    <tr>\n",
       "      <th>9983</th>\n",
       "      <td>No</td>\n",
       "      <td>No</td>\n",
       "      <td>506.625454</td>\n",
       "      <td>49861.003411</td>\n",
       "    </tr>\n",
       "    <tr>\n",
       "      <th>9984</th>\n",
       "      <td>No</td>\n",
       "      <td>No</td>\n",
       "      <td>875.241640</td>\n",
       "      <td>52861.744197</td>\n",
       "    </tr>\n",
       "    <tr>\n",
       "      <th>9985</th>\n",
       "      <td>No</td>\n",
       "      <td>No</td>\n",
       "      <td>842.949429</td>\n",
       "      <td>39957.127855</td>\n",
       "    </tr>\n",
       "    <tr>\n",
       "      <th>9986</th>\n",
       "      <td>No</td>\n",
       "      <td>Yes</td>\n",
       "      <td>401.332674</td>\n",
       "      <td>15332.017833</td>\n",
       "    </tr>\n",
       "    <tr>\n",
       "      <th>9987</th>\n",
       "      <td>No</td>\n",
       "      <td>No</td>\n",
       "      <td>1092.906583</td>\n",
       "      <td>45479.466985</td>\n",
       "    </tr>\n",
       "    <tr>\n",
       "      <th>9988</th>\n",
       "      <td>No</td>\n",
       "      <td>No</td>\n",
       "      <td>0.000000</td>\n",
       "      <td>41740.686597</td>\n",
       "    </tr>\n",
       "    <tr>\n",
       "      <th>9989</th>\n",
       "      <td>No</td>\n",
       "      <td>Yes</td>\n",
       "      <td>999.281112</td>\n",
       "      <td>20013.350644</td>\n",
       "    </tr>\n",
       "    <tr>\n",
       "      <th>9990</th>\n",
       "      <td>No</td>\n",
       "      <td>No</td>\n",
       "      <td>372.379239</td>\n",
       "      <td>25374.899085</td>\n",
       "    </tr>\n",
       "    <tr>\n",
       "      <th>9991</th>\n",
       "      <td>No</td>\n",
       "      <td>No</td>\n",
       "      <td>658.799558</td>\n",
       "      <td>54802.078221</td>\n",
       "    </tr>\n",
       "    <tr>\n",
       "      <th>9992</th>\n",
       "      <td>No</td>\n",
       "      <td>No</td>\n",
       "      <td>1111.647317</td>\n",
       "      <td>45490.682463</td>\n",
       "    </tr>\n",
       "    <tr>\n",
       "      <th>9993</th>\n",
       "      <td>No</td>\n",
       "      <td>No</td>\n",
       "      <td>938.836241</td>\n",
       "      <td>56633.448744</td>\n",
       "    </tr>\n",
       "    <tr>\n",
       "      <th>9994</th>\n",
       "      <td>No</td>\n",
       "      <td>Yes</td>\n",
       "      <td>172.412987</td>\n",
       "      <td>14955.941689</td>\n",
       "    </tr>\n",
       "    <tr>\n",
       "      <th>9995</th>\n",
       "      <td>No</td>\n",
       "      <td>No</td>\n",
       "      <td>711.555020</td>\n",
       "      <td>52992.378914</td>\n",
       "    </tr>\n",
       "    <tr>\n",
       "      <th>9996</th>\n",
       "      <td>No</td>\n",
       "      <td>No</td>\n",
       "      <td>757.962918</td>\n",
       "      <td>19660.721768</td>\n",
       "    </tr>\n",
       "    <tr>\n",
       "      <th>9997</th>\n",
       "      <td>No</td>\n",
       "      <td>No</td>\n",
       "      <td>845.411989</td>\n",
       "      <td>58636.156984</td>\n",
       "    </tr>\n",
       "    <tr>\n",
       "      <th>9998</th>\n",
       "      <td>No</td>\n",
       "      <td>No</td>\n",
       "      <td>1569.009053</td>\n",
       "      <td>36669.112365</td>\n",
       "    </tr>\n",
       "    <tr>\n",
       "      <th>9999</th>\n",
       "      <td>No</td>\n",
       "      <td>Yes</td>\n",
       "      <td>200.922183</td>\n",
       "      <td>16862.952321</td>\n",
       "    </tr>\n",
       "  </tbody>\n",
       "</table>\n",
       "<p>10000 rows × 4 columns</p>\n",
       "</div>"
      ],
      "text/plain": [
       "     default student      balance        income\n",
       "0         No      No   729.526495  44361.625074\n",
       "1         No     Yes   817.180407  12106.134700\n",
       "2         No      No  1073.549164  31767.138947\n",
       "3         No      No   529.250605  35704.493935\n",
       "4         No      No   785.655883  38463.495879\n",
       "5         No     Yes   919.588530   7491.558572\n",
       "6         No      No   825.513331  24905.226578\n",
       "7         No     Yes   808.667504  17600.451344\n",
       "8         No      No  1161.057854  37468.529288\n",
       "9         No      No     0.000000  29275.268293\n",
       "10        No     Yes     0.000000  21871.073089\n",
       "11        No     Yes  1220.583753  13268.562221\n",
       "12        No      No   237.045114  28251.695345\n",
       "13        No      No   606.742343  44994.555849\n",
       "14        No      No  1112.968401  23810.174050\n",
       "15        No      No   286.232560  45042.413036\n",
       "16        No      No     0.000000  50265.312354\n",
       "17        No     Yes   527.540184  17636.539617\n",
       "18        No      No   485.936864  61566.106118\n",
       "19        No      No  1095.072735  26464.631389\n",
       "20        No      No   228.952550  50500.182198\n",
       "21        No      No   954.261793  32457.509075\n",
       "22        No      No  1055.956605  51317.883082\n",
       "23        No      No   641.984389  30466.103257\n",
       "24        No      No   773.211725  34353.314305\n",
       "25        No      No   855.008523  25211.332161\n",
       "26        No      No   642.999739  41473.511801\n",
       "27        No      No  1454.863272  32189.094952\n",
       "28        No      No   615.704277  39376.394619\n",
       "29        No     Yes  1119.569353  16556.070205\n",
       "...      ...     ...          ...           ...\n",
       "9970      No     Yes  1294.500408  25687.326050\n",
       "9971      No     Yes   180.620128  20975.560495\n",
       "9972      No      No   755.432801  14455.865365\n",
       "9973      No      No   876.119027  37668.366788\n",
       "9974      No     Yes   933.332025  26051.398320\n",
       "9975      No      No   908.315934  21287.942487\n",
       "9976      No      No   218.417559  25401.133121\n",
       "9977      No     Yes   915.439827  16624.339111\n",
       "9978     Yes      No  2202.462395  47287.257108\n",
       "9979      No      No   173.249172  30697.245062\n",
       "9980      No     Yes   770.015741  13684.789952\n",
       "9981      No      No   739.418018  40656.951448\n",
       "9982      No      No   623.526119  59441.309981\n",
       "9983      No      No   506.625454  49861.003411\n",
       "9984      No      No   875.241640  52861.744197\n",
       "9985      No      No   842.949429  39957.127855\n",
       "9986      No     Yes   401.332674  15332.017833\n",
       "9987      No      No  1092.906583  45479.466985\n",
       "9988      No      No     0.000000  41740.686597\n",
       "9989      No     Yes   999.281112  20013.350644\n",
       "9990      No      No   372.379239  25374.899085\n",
       "9991      No      No   658.799558  54802.078221\n",
       "9992      No      No  1111.647317  45490.682463\n",
       "9993      No      No   938.836241  56633.448744\n",
       "9994      No     Yes   172.412987  14955.941689\n",
       "9995      No      No   711.555020  52992.378914\n",
       "9996      No      No   757.962918  19660.721768\n",
       "9997      No      No   845.411989  58636.156984\n",
       "9998      No      No  1569.009053  36669.112365\n",
       "9999      No     Yes   200.922183  16862.952321\n",
       "\n",
       "[10000 rows x 4 columns]"
      ]
     },
     "execution_count": 3,
     "metadata": {},
     "output_type": "execute_result"
    }
   ],
   "source": [
    "df"
   ]
  },
  {
   "cell_type": "code",
   "execution_count": 4,
   "metadata": {},
   "outputs": [],
   "source": [
    "import sklearn.model_selection\n",
    "from sklearn.model_selection import train_test_split\n",
    "from sklearn.linear_model import LogisticRegression\n",
    "from sklearn.preprocessing import StandardScaler\n",
    "from sklearn.metrics import classification_report\n",
    "from sklearn.metrics import roc_curve"
   ]
  },
  {
   "cell_type": "code",
   "execution_count": 5,
   "metadata": {},
   "outputs": [
    {
     "data": {
      "text/plain": [
       "<matplotlib.axes._subplots.AxesSubplot at 0x9337530>"
      ]
     },
     "execution_count": 5,
     "metadata": {},
     "output_type": "execute_result"
    },
    {
     "data": {
      "image/png": "[encoded data removed]",
      "text/plain": [
       "<Figure size 432x288 with 1 Axes>"
      ]
     },
     "metadata": {
      "needs_background": "light"
     },
     "output_type": "display_data"
    }
   ],
   "source": [
    "sns.boxplot(x=df['student'], y=df['balance'])"
   ]
  },
  {
   "cell_type": "markdown",
   "metadata": {},
   "source": [
    "Los estudiantes poseen un mayor saldo en sus cuentas de credito que aquellos que no son estudiantes"
   ]
  },
  {
   "cell_type": "code",
   "execution_count": 6,
   "metadata": {},
   "outputs": [
    {
     "data": {
      "text/plain": [
       "<matplotlib.axes._subplots.AxesSubplot at 0x9644dd0>"
      ]
     },
     "execution_count": 6,
     "metadata": {},
     "output_type": "execute_result"
    },
    {
     "data": {
      "image/png": "[encoded data removed]",
      "text/plain": [
       "<Figure size 432x288 with 1 Axes>"
      ]
     },
     "metadata": {
      "needs_background": "light"
     },
     "output_type": "display_data"
    }
   ],
   "source": [
    "sns.boxplot(x=df['student'], y=df['income'])"
   ]
  },
  {
   "cell_type": "markdown",
   "metadata": {},
   "source": [
    "Aquellos que no son estudiantes poseen mayores ingresos declarados que aquellos que si son estudiantes"
   ]
  },
  {
   "cell_type": "code",
   "execution_count": 7,
   "metadata": {},
   "outputs": [
    {
     "data": {
      "text/plain": [
       "<matplotlib.axes._subplots.AxesSubplot at 0x968ee30>"
      ]
     },
     "execution_count": 7,
     "metadata": {},
     "output_type": "execute_result"
    },
    {
     "data": {
      "image/png": "[encoded data removed]",
      "text/plain": [
       "<Figure size 432x288 with 1 Axes>"
      ]
     },
     "metadata": {
      "needs_background": "light"
     },
     "output_type": "display_data"
    }
   ],
   "source": [
    "sns.boxplot(x=df['default'], y=df['balance'])"
   ]
  },
  {
   "cell_type": "markdown",
   "metadata": {},
   "source": [
    "Según el gráfico poseen un mayor saldo en su cuenta de crédito aquellos clientes que estan en default."
   ]
  },
  {
   "cell_type": "code",
   "execution_count": 8,
   "metadata": {},
   "outputs": [
    {
     "data": {
      "text/plain": [
       "<matplotlib.axes._subplots.AxesSubplot at 0x96d0f10>"
      ]
     },
     "execution_count": 8,
     "metadata": {},
     "output_type": "execute_result"
    },
    {
     "data": {
      "image/png": "[encoded data removed]",
      "text/plain": [
       "<Figure size 432x288 with 1 Axes>"
      ]
     },
     "metadata": {
      "needs_background": "light"
     },
     "output_type": "display_data"
    }
   ],
   "source": [
    "sns.boxplot(x=df['default'], y=df['income'])"
   ]
  },
  {
   "cell_type": "markdown",
   "metadata": {},
   "source": [
    "El ingreso promedio declarado por los clientes es similar entre los que estan en default y los que no"
   ]
  },
  {
   "cell_type": "code",
   "execution_count": 9,
   "metadata": {},
   "outputs": [
    {
     "data": {
      "text/plain": [
       "<seaborn.axisgrid.FacetGrid at 0x9683070>"
      ]
     },
     "execution_count": 9,
     "metadata": {},
     "output_type": "execute_result"
    },
    {
     "data": {
      "image/png": "[encoded data removed]",
      "text/plain": [
       "<Figure size 413.25x360 with 1 Axes>"
      ]
     },
     "metadata": {
      "needs_background": "light"
     },
     "output_type": "display_data"
    }
   ],
   "source": [
    "sns.lmplot(x=\"income\", y=\"balance\", hue=\"student\", data=df)"
   ]
  },
  {
   "cell_type": "markdown",
   "metadata": {},
   "source": [
    "Aquí podemos deducir que los que son estudiantes poseen un mayor saldo en sus cuentas de credito y un menor ingreso declarado. Con los que no son estudiantes, sucede al reves poseen un menor saldo en sus cuentas y un mayor ingreso declarado."
   ]
  },
  {
   "cell_type": "code",
   "execution_count": 10,
   "metadata": {},
   "outputs": [
    {
     "data": {
      "text/plain": [
       "<seaborn.axisgrid.FacetGrid at 0x974b910>"
      ]
     },
     "execution_count": 10,
     "metadata": {},
     "output_type": "execute_result"
    },
    {
     "data": {
      "image/png": "[encoded data removed]",
      "text/plain": [
       "<Figure size 413.25x360 with 1 Axes>"
      ]
     },
     "metadata": {
      "needs_background": "light"
     },
     "output_type": "display_data"
    }
   ],
   "source": [
    "sns.lmplot(x=\"income\", y=\"balance\", hue=\"default\", data=df)"
   ]
  },
  {
   "cell_type": "markdown",
   "metadata": {},
   "source": [
    "Aquí podemos ver que tanto los que estan en default como los que no presentan un mayor saldo en sus cuentas de credito cuando han declarado menores ingresos, y disminuye el saldo de sus cuentas en tanto perciben mayores ingresos."
   ]
  },
  {
   "cell_type": "code",
   "execution_count": 11,
   "metadata": {},
   "outputs": [],
   "source": [
    "df['student']=df['student'].replace(['No','Yes'],[0,1])\n",
    "df['default']=df['default'].replace(['No','Yes'],[0,1])"
   ]
  },
  {
   "cell_type": "code",
   "execution_count": 13,
   "metadata": {},
   "outputs": [
    {
     "name": "stdout",
     "output_type": "stream",
     "text": [
      "Optimization terminated successfully.\n",
      "         Current function value: 0.078577\n",
      "         Iterations 10\n"
     ]
    }
   ],
   "source": [
    "m1_logit = smf.logit('default ~ student + balance + income', df).fit()"
   ]
  },
  {
   "cell_type": "code",
   "execution_count": 14,
   "metadata": {},
   "outputs": [
    {
     "data": {
      "text/html": [
       "<table class=\"simpletable\">\n",
       "<tr>\n",
       "        <td>Model:</td>              <td>Logit</td>      <td>Pseudo R-squared:</td>    <td>0.462</td>   \n",
       "</tr>\n",
       "<tr>\n",
       "  <td>Dependent Variable:</td>      <td>default</td>           <td>AIC:</td>         <td>1579.5448</td> \n",
       "</tr>\n",
       "<tr>\n",
       "         <td>Date:</td>        <td>2018-12-11 10:58</td>       <td>BIC:</td>         <td>1608.3862</td> \n",
       "</tr>\n",
       "<tr>\n",
       "   <td>No. Observations:</td>        <td>10000</td>       <td>Log-Likelihood:</td>    <td>-785.77</td>  \n",
       "</tr>\n",
       "<tr>\n",
       "       <td>Df Model:</td>              <td>3</td>            <td>LL-Null:</td>        <td>-1460.3</td>  \n",
       "</tr>\n",
       "<tr>\n",
       "     <td>Df Residuals:</td>          <td>9996</td>         <td>LLR p-value:</td>    <td>3.2575e-292</td>\n",
       "</tr>\n",
       "<tr>\n",
       "      <td>Converged:</td>           <td>1.0000</td>           <td>Scale:</td>         <td>1.0000</td>   \n",
       "</tr>\n",
       "<tr>\n",
       "    <td>No. Iterations:</td>        <td>10.0000</td>             <td></td>               <td></td>      \n",
       "</tr>\n",
       "</table>\n",
       "<table class=\"simpletable\">\n",
       "<tr>\n",
       "      <td></td>        <th>Coef.</th>  <th>Std.Err.</th>     <th>z</th>     <th>P>|z|</th>  <th>[0.025</th>  <th>0.975]</th> \n",
       "</tr>\n",
       "<tr>\n",
       "  <th>Intercept</th> <td>-10.8690</td>  <td>0.4923</td>  <td>-22.0793</td> <td>0.0000</td> <td>-11.8339</td> <td>-9.9042</td>\n",
       "</tr>\n",
       "<tr>\n",
       "  <th>student</th>    <td>-0.6468</td>  <td>0.2363</td>   <td>-2.7376</td> <td>0.0062</td>  <td>-1.1098</td> <td>-0.1837</td>\n",
       "</tr>\n",
       "<tr>\n",
       "  <th>balance</th>    <td>0.0057</td>   <td>0.0002</td>   <td>24.7365</td> <td>0.0000</td>  <td>0.0053</td>  <td>0.0062</td> \n",
       "</tr>\n",
       "<tr>\n",
       "  <th>income</th>     <td>0.0000</td>   <td>0.0000</td>   <td>0.3698</td>  <td>0.7115</td>  <td>-0.0000</td> <td>0.0000</td> \n",
       "</tr>\n",
       "</table>"
      ],
      "text/plain": [
       "<class 'statsmodels.iolib.summary2.Summary'>\n",
       "\"\"\"\n",
       "                          Results: Logit\n",
       "==================================================================\n",
       "Model:              Logit            Pseudo R-squared: 0.462      \n",
       "Dependent Variable: default          AIC:              1579.5448  \n",
       "Date:               2018-12-11 10:58 BIC:              1608.3862  \n",
       "No. Observations:   10000            Log-Likelihood:   -785.77    \n",
       "Df Model:           3                LL-Null:          -1460.3    \n",
       "Df Residuals:       9996             LLR p-value:      3.2575e-292\n",
       "Converged:          1.0000           Scale:            1.0000     \n",
       "No. Iterations:     10.0000                                       \n",
       "-------------------------------------------------------------------\n",
       "             Coef.    Std.Err.     z      P>|z|    [0.025    0.975]\n",
       "-------------------------------------------------------------------\n",
       "Intercept   -10.8690    0.4923  -22.0793  0.0000  -11.8339  -9.9042\n",
       "student      -0.6468    0.2363   -2.7376  0.0062   -1.1098  -0.1837\n",
       "balance       0.0057    0.0002   24.7365  0.0000    0.0053   0.0062\n",
       "income        0.0000    0.0000    0.3698  0.7115   -0.0000   0.0000\n",
       "==================================================================\n",
       "\n",
       "\"\"\""
      ]
     },
     "execution_count": 14,
     "metadata": {},
     "output_type": "execute_result"
    }
   ],
   "source": [
    "m1_logit.summary2()"
   ]
  },
  {
   "cell_type": "code",
   "execution_count": 54,
   "metadata": {},
   "outputs": [
    {
     "name": "stdout",
     "output_type": "stream",
     "text": [
      "Optimization terminated successfully.\n",
      "         Current function value: 0.078584\n",
      "         Iterations 10\n"
     ]
    }
   ],
   "source": [
    "m2_logit = smf.logit('default ~ student + balance', df).fit()"
   ]
  },
  {
   "cell_type": "code",
   "execution_count": 55,
   "metadata": {},
   "outputs": [
    {
     "data": {
      "text/html": [
       "<table class=\"simpletable\">\n",
       "<tr>\n",
       "        <td>Model:</td>              <td>Logit</td>      <td>Pseudo R-squared:</td>    <td>0.462</td>   \n",
       "</tr>\n",
       "<tr>\n",
       "  <td>Dependent Variable:</td>      <td>default</td>           <td>AIC:</td>         <td>1577.6816</td> \n",
       "</tr>\n",
       "<tr>\n",
       "         <td>Date:</td>        <td>2018-12-11 12:01</td>       <td>BIC:</td>         <td>1599.3126</td> \n",
       "</tr>\n",
       "<tr>\n",
       "   <td>No. Observations:</td>        <td>10000</td>       <td>Log-Likelihood:</td>    <td>-785.84</td>  \n",
       "</tr>\n",
       "<tr>\n",
       "       <td>Df Model:</td>              <td>2</td>            <td>LL-Null:</td>        <td>-1460.3</td>  \n",
       "</tr>\n",
       "<tr>\n",
       "     <td>Df Residuals:</td>          <td>9997</td>         <td>LLR p-value:</td>    <td>1.1893e-293</td>\n",
       "</tr>\n",
       "<tr>\n",
       "      <td>Converged:</td>           <td>1.0000</td>           <td>Scale:</td>         <td>1.0000</td>   \n",
       "</tr>\n",
       "<tr>\n",
       "    <td>No. Iterations:</td>        <td>10.0000</td>             <td></td>               <td></td>      \n",
       "</tr>\n",
       "</table>\n",
       "<table class=\"simpletable\">\n",
       "<tr>\n",
       "      <td></td>        <th>Coef.</th>  <th>Std.Err.</th>     <th>z</th>     <th>P>|z|</th>  <th>[0.025</th>   <th>0.975]</th> \n",
       "</tr>\n",
       "<tr>\n",
       "  <th>Intercept</th> <td>-10.7495</td>  <td>0.3692</td>  <td>-29.1149</td> <td>0.0000</td> <td>-11.4731</td> <td>-10.0259</td>\n",
       "</tr>\n",
       "<tr>\n",
       "  <th>student</th>    <td>-0.7149</td>  <td>0.1475</td>   <td>-4.8459</td> <td>0.0000</td>  <td>-1.0040</td>  <td>-0.4257</td>\n",
       "</tr>\n",
       "<tr>\n",
       "  <th>balance</th>    <td>0.0057</td>   <td>0.0002</td>   <td>24.7485</td> <td>0.0000</td>  <td>0.0053</td>   <td>0.0062</td> \n",
       "</tr>\n",
       "</table>"
      ],
      "text/plain": [
       "<class 'statsmodels.iolib.summary2.Summary'>\n",
       "\"\"\"\n",
       "                          Results: Logit\n",
       "==================================================================\n",
       "Model:              Logit            Pseudo R-squared: 0.462      \n",
       "Dependent Variable: default          AIC:              1577.6816  \n",
       "Date:               2018-12-11 12:01 BIC:              1599.3126  \n",
       "No. Observations:   10000            Log-Likelihood:   -785.84    \n",
       "Df Model:           2                LL-Null:          -1460.3    \n",
       "Df Residuals:       9997             LLR p-value:      1.1893e-293\n",
       "Converged:          1.0000           Scale:            1.0000     \n",
       "No. Iterations:     10.0000                                       \n",
       "-------------------------------------------------------------------\n",
       "            Coef.    Std.Err.     z      P>|z|    [0.025    0.975] \n",
       "-------------------------------------------------------------------\n",
       "Intercept  -10.7495    0.3692  -29.1149  0.0000  -11.4731  -10.0259\n",
       "student     -0.7149    0.1475   -4.8459  0.0000   -1.0040   -0.4257\n",
       "balance      0.0057    0.0002   24.7485  0.0000    0.0053    0.0062\n",
       "==================================================================\n",
       "\n",
       "\"\"\""
      ]
     },
     "execution_count": 55,
     "metadata": {},
     "output_type": "execute_result"
    }
   ],
   "source": [
    "m2_logit.summary2()"
   ]
  },
  {
   "cell_type": "markdown",
   "metadata": {},
   "source": [
    "Las variables del modelo tienen un nivel de significancia del %100"
   ]
  },
  {
   "cell_type": "code",
   "execution_count": 66,
   "metadata": {},
   "outputs": [],
   "source": [
    "X_train,X_test,y_train,y_test = train_test_split(df.loc[:,'student':'balance'],\n",
    "                                                df['default'],\n",
    "                                                test_size=.33,\n",
    "                                                random_state=805)\n"
   ]
  },
  {
   "cell_type": "code",
   "execution_count": 67,
   "metadata": {},
   "outputs": [],
   "source": [
    "X_train_std = StandardScaler().fit_transform(X_train)"
   ]
  },
  {
   "cell_type": "code",
   "execution_count": 68,
   "metadata": {},
   "outputs": [],
   "source": [
    "X_test_std = StandardScaler().fit_transform(X_test)"
   ]
  },
  {
   "cell_type": "code",
   "execution_count": 69,
   "metadata": {},
   "outputs": [],
   "source": [
    "default_model = LogisticRegression().fit(X_train_std,y_train)"
   ]
  },
  {
   "cell_type": "code",
   "execution_count": 70,
   "metadata": {},
   "outputs": [
    {
     "data": {
      "text/plain": [
       "array([[-0.28449258,  2.50004431]])"
      ]
     },
     "execution_count": 70,
     "metadata": {},
     "output_type": "execute_result"
    }
   ],
   "source": [
    "default_model.coef_"
   ]
  },
  {
   "cell_type": "code",
   "execution_count": 71,
   "metadata": {},
   "outputs": [],
   "source": [
    "yhat = default_model.predict(X_test_std)"
   ]
  },
  {
   "cell_type": "code",
   "execution_count": 72,
   "metadata": {},
   "outputs": [
    {
     "data": {
      "text/plain": [
       "array([0, 0, 0, 0, 0, 0, 0, 0, 0, 0, 0, 0, 0, 0, 0, 0, 0, 0, 0, 0],\n",
       "      dtype=int64)"
      ]
     },
     "execution_count": 72,
     "metadata": {},
     "output_type": "execute_result"
    }
   ],
   "source": [
    "yhat[:20]"
   ]
  },
  {
   "cell_type": "code",
   "execution_count": 73,
   "metadata": {},
   "outputs": [
    {
     "name": "stdout",
     "output_type": "stream",
     "text": [
      "             precision    recall  f1-score   support\n",
      "\n",
      "          0       0.98      1.00      0.99      3194\n",
      "          1       0.79      0.32      0.46       106\n",
      "\n",
      "avg / total       0.97      0.98      0.97      3300\n",
      "\n"
     ]
    }
   ],
   "source": [
    "print(classification_report(y_test, yhat))"
   ]
  },
  {
   "cell_type": "code",
   "execution_count": 74,
   "metadata": {},
   "outputs": [],
   "source": [
    "yhat = default_model.predict_proba(X_test)[:, 1]\n",
    "false_positive, true_positive, threshold = roc_curve(y_test, yhat)"
   ]
  },
  {
   "cell_type": "code",
   "execution_count": 75,
   "metadata": {},
   "outputs": [
    {
     "data": {
      "text/plain": [
       "Text(0.5,0,'Falsos Positivos')"
      ]
     },
     "execution_count": 75,
     "metadata": {},
     "output_type": "execute_result"
    },
    {
     "data": {
      "image/png": "[encoded data removed]",
      "text/plain": [
       "<Figure size 432x288 with 1 Axes>"
      ]
     },
     "metadata": {
      "needs_background": "light"
     },
     "output_type": "display_data"
    }
   ],
   "source": [
    "plt.title('Curva ROC')\n",
    "plt.plot(false_positive, true_positive, lw=1)\n",
    "plt.plot([0, 1], ls=\"--\", lw=1)\n",
    "plt.plot([0, 0], [1, 0] , c='limegreen', lw=3), plt.plot([1, 1] , c='limegreen', lw=3)\n",
    "plt.ylabel('Verdaderos Positivos')\n",
    "plt.xlabel('Falsos Positivos')"
   ]
  },
  {
   "cell_type": "markdown",
   "metadata": {},
   "source": [
    "Podriamos decir que el resultado malo ya que la curva se encuentra muy cerca de la diagonal, y lo ideal seria que este cercana a la curva superior izquierda. Esta prueba no discrimina entre los resultados, por ello es una prueba poco confiable."
   ]
  }
 ],
 "metadata": {
  "kernelspec": {
   "display_name": "Python 3",
   "language": "python",
   "name": "python3"
  },
  "language_info": {
   "codemirror_mode": {
    "name": "ipython",
    "version": 3
   },
   "file_extension": ".py",
   "mimetype": "text/x-python",
   "name": "python",
   "nbconvert_exporter": "python",
   "pygments_lexer": "ipython3",
   "version": "3.6.5"
  }
 },
 "nbformat": 4,
 "nbformat_minor": 2
}
